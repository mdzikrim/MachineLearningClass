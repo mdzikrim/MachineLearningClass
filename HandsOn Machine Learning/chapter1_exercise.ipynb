{
 "cells": [
  {
   "cell_type": "markdown",
   "id": "63803d00",
   "metadata": {},
   "source": [
    "### Machine Learning Chapter 1"
   ]
  },
  {
   "cell_type": "markdown",
   "id": "404a724a",
   "metadata": {},
   "source": [
    "### 1. How would you define Machine Learning?"
   ]
  },
  {
   "cell_type": "markdown",
   "id": "9e2de296",
   "metadata": {},
   "source": [
    "> Machine Learning adalah ilmu membuat sistem komputer agar dapat belajar dari data dan meningkatkan performa pada suatu tugas tertentu berdasarkan pengalaman."
   ]
  },
  {
   "cell_type": "markdown",
   "id": "f3036860",
   "metadata": {},
   "source": [
    "### 2. Can you name four types of problems where it shines?"
   ]
  },
  {
   "cell_type": "markdown",
   "id": "ba4bf3fd",
   "metadata": {},
   "source": [
    "> Machine Learning sangat cocok digunakan untuk:\n",
    "> - Masalah kompleks yang sulit dipecahkan dengan aturan eksplisit\n",
    "> - Situasi di mana aturan manual terlalu banyak atau rumit\n",
    "> - Sistem yang perlu beradaptasi dengan lingkungan yang berubah\n",
    "> - Menemukan pola tersembunyi dalam data besar (data mining)"
   ]
  },
  {
   "cell_type": "markdown",
   "id": "c160205b",
   "metadata": {},
   "source": [
    "### 3. What is a labeled training set?"
   ]
  },
  {
   "cell_type": "markdown",
   "id": "746f8a6b",
   "metadata": {},
   "source": [
    "> Dataset training yang setiap baris datanya sudah dilabeli dengan output yang benar. Dataset ini digunakan untuk supervised learning."
   ]
  },
  {
   "cell_type": "markdown",
   "id": "5b4a5093",
   "metadata": {},
   "source": [
    "### 4. What are the two most common supervised tasks?"
   ]
  },
  {
   "cell_type": "markdown",
   "id": "90ed4c01",
   "metadata": {},
   "source": [
    "> - Klasifikasi: memprediksi kategori (contoh: spam atau bukan)\n",
    "> - Regresi: memprediksi nilai kontinu (contoh: harga rumah)"
   ]
  },
  {
   "cell_type": "markdown",
   "id": "2df602a7",
   "metadata": {},
   "source": [
    "### 5. Can you name four common unsupervised tasks?"
   ]
  },
  {
   "cell_type": "markdown",
   "id": "00e26d5f",
   "metadata": {},
   "source": [
    "> - Clustering: mengelompokkan data (contoh: segmentasi pelanggan)\n",
    "> - Dimensionality Reduction: mengurangi jumlah fitur (contoh: PCA)\n",
    "> - Anomaly Detection: mendeteksi data yang menyimpang (contoh: deteksi fraud)\n",
    "> - Association Rule Learning: menemukan hubungan antar item (contoh: market basket analysis)"
   ]
  },
  {
   "cell_type": "markdown",
   "id": "e22e3536",
   "metadata": {},
   "source": [
    "### 6. What type of ML algorithm for a robot walking on unknown terrain?"
   ]
  },
  {
   "cell_type": "markdown",
   "id": "2036dc86",
   "metadata": {},
   "source": [
    "> Menggunakan Reinforcement Learning, dimana agen belajar mengambil tindakan berdasarkan reward dan penalty dari lingkungan."
   ]
  },
  {
   "cell_type": "markdown",
   "id": "6b7c4502",
   "metadata": {},
   "source": [
    "### 7. What algorithm would you use to segment your customers?"
   ]
  },
  {
   "cell_type": "markdown",
   "id": "d2192d5f",
   "metadata": {},
   "source": [
    "> Menggunakan Clustering, seperti algoritma K-Means untuk mengelompokkan pelanggan ke dalam beberapa segmen."
   ]
  },
  {
   "cell_type": "markdown",
   "id": "bf6f194e",
   "metadata": {},
   "source": [
    "### 8. Is spam detection supervised or unsupervised?"
   ]
  },
  {
   "cell_type": "markdown",
   "id": "699dc618",
   "metadata": {},
   "source": [
    "> Supervised learning, karena kita memiliki data email yang sudah diberi label spam atau bukan."
   ]
  },
  {
   "cell_type": "markdown",
   "id": "62e893f7",
   "metadata": {},
   "source": [
    "### 9. What is an online learning system?"
   ]
  },
  {
   "cell_type": "markdown",
   "id": "74fc4d42",
   "metadata": {},
   "source": [
    "> Sistem yang belajar secara bertahap dari data yang masuk secara kontinu, cocok untuk sistem real-time."
   ]
  },
  {
   "cell_type": "markdown",
   "id": "3a5aa82e",
   "metadata": {},
   "source": [
    "### 10. What is out-of-core learning?"
   ]
  },
  {
   "cell_type": "markdown",
   "id": "852920bc",
   "metadata": {},
   "source": [
    "> Teknik pelatihan model pada dataset yang terlalu besar untuk dimuat sekaligus ke dalam memori, dengan cara memproses sebagian data dalam batch kecil."
   ]
  },
  {
   "cell_type": "markdown",
   "id": "b4a3c741",
   "metadata": {},
   "source": [
    "### 11. What algorithm uses similarity for predictions?"
   ]
  },
  {
   "cell_type": "markdown",
   "id": "caa381fa",
   "metadata": {},
   "source": [
    "> **Instance-Based Learning**, seperti algoritma **K-Nearest Neighbors (KNN)**, yang memprediksi berdasarkan kemiripan dengan data sebelumnya."
   ]
  },
  {
   "cell_type": "markdown",
   "id": "8102624a",
   "metadata": {},
   "source": [
    "### 12. What is the difference between a model parameter and a learning algorithm’s hyperparameter?\n",
    "> - Parameter model adalah nilai internal yang dipelajari oleh model selama proses training (contoh: koefisien dalam regresi linear).\n",
    "> - Hyperparameter adalah parameter yang ditentukan sebelum proses training dan mengatur cara kerja algoritma (contoh: jumlah pohon dalam random forest, atau nilai C dalam SVM).\n",
    "\n",
    "### 13. What do model-based learning algorithms search for? What is the most common strategy they use to succeed? How do they make predictions?\n",
    "> Algoritma pembelajaran berbasis model berusaha menemukan parameter model terbaik untuk meminimalkan fungsi kesalahan (loss function).  \n",
    "> Strategi yang umum digunakan adalah optimasi fungsi biaya\n",
    "> Setelah model dilatih, prediksi dilakukan dengan memberikan data input ke fungsi model tersebut."
   ]
  },
  {
   "cell_type": "markdown",
   "id": "d2b16755",
   "metadata": {},
   "source": [
    "### 14. Can you name four of the main challenges in Machine Learning?\n",
    "> - Data tidak mencukupi (insufficient data)\n",
    "> - Data tidak representatif (sampling bias)\n",
    "> - Data berkualitas buruk (missing values, outliers, noise)\n",
    "> - Overfitting dan Underfitting model\n",
    "\n",
    "### 15. If your model performs great on the training data but generalizes poorly to new instances, what is happening? Can you name three possible solutions?\n",
    "> Ini adalah kasus overfitting: model terlalu cocok dengan data training.  \n",
    "> Tiga solusi yang dapat dilakukan:\n",
    "> - Gunakan model yang lebih sederhana atau regularisasi model\n",
    "> - Tambah ukuran dataset (lebih banyak data training)\n",
    "> - Bersihkan data dari noise atau fitur yang tidak relevan\n",
    "\n",
    "### 16. What is a test set, and why would you want to use it?\n",
    "> Test set adalah data yang digunakan untuk mengukur performa akhir model setelah training selesai.  \n",
    "> Tujuannya adalah untuk mengevaluasi seberapa baik model mampu menggeneralisasi ke data baru yang belum pernah dilihat.\n",
    "\n",
    "### 17. What is the purpose of a validation set?\n",
    "> Validation set digunakan untuk membandingkan performa berbagai model atau konfigurasi hyperparameter.  \n",
    "> Ini memungkinkan kita untuk memilih model terbaik tanpa menyentuh test set.\n",
    "\n",
    "### 18. What is the train-dev set, when do you need it, and how do you use it?\n",
    "> Train-dev set adalah subset dari data training yang digunakan untuk mengecek apakah model overfitting pada data training atau gagal generalisasi ke data yang mirip.  \n",
    "> Digunakan ketika validation set dan test set memiliki karakteristik berbeda dari data training.\n",
    "\n",
    "### 19. What can go wrong if you tune hyperparameters using the test set?\n",
    "> Jika test set digunakan dalam tuning hyperparameter, maka model akan “belajar” dari test set, dan skor akhirnya menjadi bias.  \n",
    "> Artinya, estimasi performa pada test set menjadi terlalu optimis dan tidak mencerminkan performa sebenarnya di dunia nyata."
   ]
  }
 ],
 "metadata": {
  "language_info": {
   "name": "python"
  }
 },
 "nbformat": 4,
 "nbformat_minor": 5
}
